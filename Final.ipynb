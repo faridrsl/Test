{
 "cells": [
  {
   "cell_type": "markdown",
   "id": "a3e15411",
   "metadata": {},
   "source": [
    "# My Jupyter Notebook on IBM Watson Studio"
   ]
  },
  {
   "cell_type": "markdown",
   "id": "b8ba4556",
   "metadata": {},
   "source": [
    "**FARID RASSOULI**<br>\n",
    "Space Engineer"
   ]
  },
  {
   "cell_type": "markdown",
   "id": "5e0ffe2e",
   "metadata": {},
   "source": [
    "*I am interested in data science beacuase of I like to work with data and programming.*"
   ]
  },
  {
   "cell_type": "markdown",
   "id": "d05e9599",
   "metadata": {},
   "source": [
    "### Sum of  Two Parameters"
   ]
  },
  {
   "cell_type": "code",
   "execution_count": 5,
   "id": "a1064493",
   "metadata": {},
   "outputs": [
    {
     "data": {
      "text/plain": [
       "3"
      ]
     },
     "execution_count": 5,
     "metadata": {},
     "output_type": "execute_result"
    }
   ],
   "source": [
    "a = 1\n",
    "b = 2\n",
    "a + b"
   ]
  },
  {
   "cell_type": "markdown",
   "id": "572b6927",
   "metadata": {},
   "source": [
    "* Tools for data scientist\n",
    " 1. Jupyter\n",
    " 2. Rstudio\n",
    " 3. GitHub\n",
    "\n",
    "here is the link to a random youtube music video: [Enemy](https://www.youtube.com/watch?v=e-xToC9wNl0) (enjoy the music!)\n",
    "\n",
    "Testing Table:\n",
    "\n",
    " col1 | col 2 | col 3\n",
    "------|------|------\n",
    "1 | 2 | 3 \n"
   ]
  }
 ],
 "metadata": {
  "kernelspec": {
   "display_name": "Python 3 (ipykernel)",
   "language": "python",
   "name": "python3"
  },
  "language_info": {
   "codemirror_mode": {
    "name": "ipython",
    "version": 3
   },
   "file_extension": ".py",
   "mimetype": "text/x-python",
   "name": "python",
   "nbconvert_exporter": "python",
   "pygments_lexer": "ipython3",
   "version": "3.9.7"
  }
 },
 "nbformat": 4,
 "nbformat_minor": 5
}
